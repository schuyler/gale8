{
 "cells": [
  {
   "cell_type": "code",
   "execution_count": 6,
   "id": "28cb475e",
   "metadata": {},
   "outputs": [],
   "source": [
    "import glob, python_speech_features, json\n",
    "import numpy as np\n",
    "from sklearn import svm, linear_model\n",
    "from sklearn.model_selection import cross_val_score, train_test_split, KFold, LeaveOneOut\n",
    "from sklearn.ensemble import RandomForestClassifier\n",
    "import librosa"
   ]
  },
  {
   "cell_type": "code",
   "execution_count": 25,
   "id": "e5ad9dd9",
   "metadata": {},
   "outputs": [],
   "source": [
    "import subprocess\n",
    "\n",
    "sample_rate = 8000\n",
    "byte_rate = sample_rate * 2 \n",
    "\n",
    "def open_mp3(filename):\n",
    "    process = subprocess.Popen(\n",
    "            ['ffmpeg', '-loglevel', 'quiet', '-i',\n",
    "            filename,\n",
    "            '-ar', str(sample_rate) , '-ac', '1', '-f', 's16le', '-'],\n",
    "            stdout=subprocess.PIPE)\n",
    "    return process.stdout\n",
    "\n",
    "def bytes_to_array(x, width=2, dtype=np.float16):\n",
    "    # Invert the scale of the data\n",
    "    scale = 1.0 / float(1 << ((8 * width) - 1))\n",
    "    # Construct the format string\n",
    "    fmt = \"<i{:d}\".format(width)\n",
    "    # Rescale and format the data buffer\n",
    "    return scale * np.frombuffer(x, fmt).astype(dtype)"
   ]
  },
  {
   "cell_type": "code",
   "execution_count": 4,
   "id": "8fa79034",
   "metadata": {},
   "outputs": [],
   "source": [
    "def extract_features(files):\n",
    "    feats = {}\n",
    "    for filename in glob.glob(files):\n",
    "        y, sr = librosa.load(filename, sr=None)\n",
    "        mfcc = python_speech_features.mfcc(y[0:sample_rate], sample_rate)\n",
    "        feats[filename] = mfcc\n",
    "    return feats"
   ]
  },
  {
   "cell_type": "code",
   "execution_count": 7,
   "id": "97df5fa5",
   "metadata": {},
   "outputs": [
    {
     "name": "stdout",
     "output_type": "stream",
     "text": [
      "CPU times: user 6.95 s, sys: 1.69 s, total: 8.64 s\n",
      "Wall time: 1.52 s\n"
     ]
    }
   ],
   "source": [
    "%%time\n",
    "ship = extract_features(\"shipping/*.wav\")\n",
    "not_ship = extract_features(\"not_shipping/*.wav\")"
   ]
  },
  {
   "cell_type": "code",
   "execution_count": 12,
   "id": "fafda64a",
   "metadata": {},
   "outputs": [
    {
     "data": {
      "text/plain": [
       "(575, 64, 575, 64)"
      ]
     },
     "execution_count": 12,
     "metadata": {},
     "output_type": "execute_result"
    }
   ],
   "source": [
    "X, y = [], []\n",
    "for lol in ship.values():\n",
    "    v = np.array(lol)\n",
    "    X.append(v.flatten())\n",
    "    y.append(1)\n",
    "\n",
    "for lol in not_ship.values():\n",
    "    v = np.array(lol)\n",
    "    X.append(v.flatten())\n",
    "    y.append(0)\n",
    "\n",
    "X, X_hold, y, y_hold = train_test_split(X, y, test_size=0.1)\n",
    "len(X), len(X_hold), len(y), len(y_hold)\n",
    "#X[0].shape"
   ]
  },
  {
   "cell_type": "code",
   "execution_count": 9,
   "id": "a9509987",
   "metadata": {},
   "outputs": [],
   "source": [
    "cv = KFold(n_splits=5, random_state=1, shuffle=True)\n",
    "def test_classifier(c):\n",
    "    ev = [True for x, y_ in zip(X_hold, y_hold) if c.predict([x])[0] == y_]\n",
    "    return len(ev) / len(y_hold)"
   ]
  },
  {
   "cell_type": "code",
   "execution_count": 10,
   "id": "fbc8c429",
   "metadata": {},
   "outputs": [
    {
     "data": {
      "text/plain": [
       "0.9686956521739131"
      ]
     },
     "execution_count": 10,
     "metadata": {},
     "output_type": "execute_result"
    }
   ],
   "source": [
    "clf = svm.SVC()\n",
    "scores = cross_val_score(clf, X, y, cv=cv)\n",
    "scores.mean()"
   ]
  },
  {
   "cell_type": "code",
   "execution_count": 11,
   "id": "b6d224d4",
   "metadata": {},
   "outputs": [
    {
     "name": "stdout",
     "output_type": "stream",
     "text": [
      "CPU times: user 25.4 ms, sys: 68 µs, total: 25.4 ms\n",
      "Wall time: 25.5 ms\n"
     ]
    },
    {
     "data": {
      "text/plain": [
       "0.984375"
      ]
     },
     "execution_count": 11,
     "metadata": {},
     "output_type": "execute_result"
    }
   ],
   "source": [
    "clf = svm.SVC()\n",
    "clf.fit(X, y)\n",
    "%time test_classifier(clf)"
   ]
  },
  {
   "cell_type": "code",
   "execution_count": 171,
   "id": "a86559da",
   "metadata": {},
   "outputs": [
    {
     "data": {
      "text/plain": [
       "3962529"
      ]
     },
     "execution_count": 171,
     "metadata": {},
     "output_type": "execute_result"
    }
   ],
   "source": [
    "import pickle\n",
    "len(pickle.dumps(clf))"
   ]
  },
  {
   "cell_type": "code",
   "execution_count": 19,
   "id": "d9a989d6",
   "metadata": {},
   "outputs": [
    {
     "data": {
      "text/plain": [
       "0.9530434782608695"
      ]
     },
     "execution_count": 19,
     "metadata": {},
     "output_type": "execute_result"
    }
   ],
   "source": [
    "rf = RandomForestClassifier(n_estimators=100)\n",
    "scores = cross_val_score(rf, X, y, cv=cv)\n",
    "scores.mean()"
   ]
  },
  {
   "cell_type": "code",
   "execution_count": 20,
   "id": "79209a9b",
   "metadata": {},
   "outputs": [
    {
     "name": "stdout",
     "output_type": "stream",
     "text": [
      "CPU times: user 452 ms, sys: 755 µs, total: 453 ms\n",
      "Wall time: 453 ms\n"
     ]
    },
    {
     "data": {
      "text/plain": [
       "0.921875"
      ]
     },
     "execution_count": 20,
     "metadata": {},
     "output_type": "execute_result"
    }
   ],
   "source": [
    "rf = RandomForestClassifier(n_estimators=100)\n",
    "rf.fit(X, y)\n",
    "%time test_classifier(rf)"
   ]
  },
  {
   "cell_type": "code",
   "execution_count": 174,
   "id": "8f7cb0bb",
   "metadata": {},
   "outputs": [
    {
     "data": {
      "text/plain": [
       "559360"
      ]
     },
     "execution_count": 174,
     "metadata": {},
     "output_type": "execute_result"
    }
   ],
   "source": [
    "import pickle\n",
    "len(pickle.dumps(rf))"
   ]
  },
  {
   "cell_type": "code",
   "execution_count": 175,
   "id": "ffe95a07",
   "metadata": {},
   "outputs": [
    {
     "data": {
      "text/plain": [
       "0.9634782608695651"
      ]
     },
     "execution_count": 175,
     "metadata": {},
     "output_type": "execute_result"
    }
   ],
   "source": [
    "lr = linear_model.LogisticRegression(max_iter=1000)\n",
    "scores = cross_val_score(rf, X, y, cv=cv)\n",
    "scores.mean()"
   ]
  },
  {
   "cell_type": "code",
   "execution_count": 176,
   "id": "3a073db8",
   "metadata": {},
   "outputs": [
    {
     "name": "stdout",
     "output_type": "stream",
     "text": [
      "CPU times: user 17.8 ms, sys: 2.19 ms, total: 20 ms\n",
      "Wall time: 3.35 ms\n"
     ]
    },
    {
     "data": {
      "text/plain": [
       "0.953125"
      ]
     },
     "execution_count": 176,
     "metadata": {},
     "output_type": "execute_result"
    }
   ],
   "source": [
    "lr = linear_model.LogisticRegression(max_iter=1000)\n",
    "lr.fit(X, y)\n",
    "%time test_classifier(lr)"
   ]
  },
  {
   "cell_type": "code",
   "execution_count": 177,
   "id": "332f9908",
   "metadata": {},
   "outputs": [
    {
     "data": {
      "text/plain": [
       "11010"
      ]
     },
     "execution_count": 177,
     "metadata": {},
     "output_type": "execute_result"
    }
   ],
   "source": [
    "len(pickle.dumps(lr))"
   ]
  },
  {
   "cell_type": "code",
   "execution_count": 13,
   "id": "13bbbba6",
   "metadata": {},
   "outputs": [
    {
     "name": "stderr",
     "output_type": "stream",
     "text": [
      "/Users/sderle/code/gale8/v2/lib/python3.9/site-packages/librosa/util/decorators.py:88: UserWarning: PySoundFile failed. Trying audioread instead.\n",
      "  return f(*args, **kwargs)\n"
     ]
    },
    {
     "ename": "KeyboardInterrupt",
     "evalue": "",
     "output_type": "error",
     "traceback": [
      "\u001b[0;31m---------------------------------------------------------------------------\u001b[0m",
      "\u001b[0;31mKeyboardInterrupt\u001b[0m                         Traceback (most recent call last)",
      "File \u001b[0;32m<timed exec>:3\u001b[0m, in \u001b[0;36m<module>\u001b[0;34m\u001b[0m\n",
      "File \u001b[0;32m~/code/gale8/v2/lib/python3.9/site-packages/librosa/util/decorators.py:88\u001b[0m, in \u001b[0;36mdeprecate_positional_args.<locals>._inner_deprecate_positional_args.<locals>.inner_f\u001b[0;34m(*args, **kwargs)\u001b[0m\n\u001b[1;32m     86\u001b[0m extra_args \u001b[38;5;241m=\u001b[39m \u001b[38;5;28mlen\u001b[39m(args) \u001b[38;5;241m-\u001b[39m \u001b[38;5;28mlen\u001b[39m(all_args)\n\u001b[1;32m     87\u001b[0m \u001b[38;5;28;01mif\u001b[39;00m extra_args \u001b[38;5;241m<\u001b[39m\u001b[38;5;241m=\u001b[39m \u001b[38;5;241m0\u001b[39m:\n\u001b[0;32m---> 88\u001b[0m     \u001b[38;5;28;01mreturn\u001b[39;00m \u001b[43mf\u001b[49m\u001b[43m(\u001b[49m\u001b[38;5;241;43m*\u001b[39;49m\u001b[43margs\u001b[49m\u001b[43m,\u001b[49m\u001b[43m \u001b[49m\u001b[38;5;241;43m*\u001b[39;49m\u001b[38;5;241;43m*\u001b[39;49m\u001b[43mkwargs\u001b[49m\u001b[43m)\u001b[49m\n\u001b[1;32m     90\u001b[0m \u001b[38;5;66;03m# extra_args > 0\u001b[39;00m\n\u001b[1;32m     91\u001b[0m args_msg \u001b[38;5;241m=\u001b[39m [\n\u001b[1;32m     92\u001b[0m     \u001b[38;5;124m\"\u001b[39m\u001b[38;5;132;01m{}\u001b[39;00m\u001b[38;5;124m=\u001b[39m\u001b[38;5;132;01m{}\u001b[39;00m\u001b[38;5;124m\"\u001b[39m\u001b[38;5;241m.\u001b[39mformat(name, arg)\n\u001b[1;32m     93\u001b[0m     \u001b[38;5;28;01mfor\u001b[39;00m name, arg \u001b[38;5;129;01min\u001b[39;00m \u001b[38;5;28mzip\u001b[39m(kwonly_args[:extra_args], args[\u001b[38;5;241m-\u001b[39mextra_args:])\n\u001b[1;32m     94\u001b[0m ]\n",
      "File \u001b[0;32m~/code/gale8/v2/lib/python3.9/site-packages/librosa/core/audio.py:183\u001b[0m, in \u001b[0;36mload\u001b[0;34m(path, sr, mono, offset, duration, dtype, res_type)\u001b[0m\n\u001b[1;32m    180\u001b[0m     y \u001b[38;5;241m=\u001b[39m to_mono(y)\n\u001b[1;32m    182\u001b[0m \u001b[38;5;28;01mif\u001b[39;00m sr \u001b[38;5;129;01mis\u001b[39;00m \u001b[38;5;129;01mnot\u001b[39;00m \u001b[38;5;28;01mNone\u001b[39;00m:\n\u001b[0;32m--> 183\u001b[0m     y \u001b[38;5;241m=\u001b[39m \u001b[43mresample\u001b[49m\u001b[43m(\u001b[49m\u001b[43my\u001b[49m\u001b[43m,\u001b[49m\u001b[43m \u001b[49m\u001b[43morig_sr\u001b[49m\u001b[38;5;241;43m=\u001b[39;49m\u001b[43msr_native\u001b[49m\u001b[43m,\u001b[49m\u001b[43m \u001b[49m\u001b[43mtarget_sr\u001b[49m\u001b[38;5;241;43m=\u001b[39;49m\u001b[43msr\u001b[49m\u001b[43m,\u001b[49m\u001b[43m \u001b[49m\u001b[43mres_type\u001b[49m\u001b[38;5;241;43m=\u001b[39;49m\u001b[43mres_type\u001b[49m\u001b[43m)\u001b[49m\n\u001b[1;32m    185\u001b[0m \u001b[38;5;28;01melse\u001b[39;00m:\n\u001b[1;32m    186\u001b[0m     sr \u001b[38;5;241m=\u001b[39m sr_native\n",
      "File \u001b[0;32m~/code/gale8/v2/lib/python3.9/site-packages/librosa/util/decorators.py:88\u001b[0m, in \u001b[0;36mdeprecate_positional_args.<locals>._inner_deprecate_positional_args.<locals>.inner_f\u001b[0;34m(*args, **kwargs)\u001b[0m\n\u001b[1;32m     86\u001b[0m extra_args \u001b[38;5;241m=\u001b[39m \u001b[38;5;28mlen\u001b[39m(args) \u001b[38;5;241m-\u001b[39m \u001b[38;5;28mlen\u001b[39m(all_args)\n\u001b[1;32m     87\u001b[0m \u001b[38;5;28;01mif\u001b[39;00m extra_args \u001b[38;5;241m<\u001b[39m\u001b[38;5;241m=\u001b[39m \u001b[38;5;241m0\u001b[39m:\n\u001b[0;32m---> 88\u001b[0m     \u001b[38;5;28;01mreturn\u001b[39;00m \u001b[43mf\u001b[49m\u001b[43m(\u001b[49m\u001b[38;5;241;43m*\u001b[39;49m\u001b[43margs\u001b[49m\u001b[43m,\u001b[49m\u001b[43m \u001b[49m\u001b[38;5;241;43m*\u001b[39;49m\u001b[38;5;241;43m*\u001b[39;49m\u001b[43mkwargs\u001b[49m\u001b[43m)\u001b[49m\n\u001b[1;32m     90\u001b[0m \u001b[38;5;66;03m# extra_args > 0\u001b[39;00m\n\u001b[1;32m     91\u001b[0m args_msg \u001b[38;5;241m=\u001b[39m [\n\u001b[1;32m     92\u001b[0m     \u001b[38;5;124m\"\u001b[39m\u001b[38;5;132;01m{}\u001b[39;00m\u001b[38;5;124m=\u001b[39m\u001b[38;5;132;01m{}\u001b[39;00m\u001b[38;5;124m\"\u001b[39m\u001b[38;5;241m.\u001b[39mformat(name, arg)\n\u001b[1;32m     93\u001b[0m     \u001b[38;5;28;01mfor\u001b[39;00m name, arg \u001b[38;5;129;01min\u001b[39;00m \u001b[38;5;28mzip\u001b[39m(kwonly_args[:extra_args], args[\u001b[38;5;241m-\u001b[39mextra_args:])\n\u001b[1;32m     94\u001b[0m ]\n",
      "File \u001b[0;32m~/code/gale8/v2/lib/python3.9/site-packages/librosa/core/audio.py:617\u001b[0m, in \u001b[0;36mresample\u001b[0;34m(y, orig_sr, target_sr, res_type, fix, scale, **kwargs)\u001b[0m\n\u001b[1;32m    615\u001b[0m     y_hat \u001b[38;5;241m=\u001b[39m soxr\u001b[38;5;241m.\u001b[39mresample(y\u001b[38;5;241m.\u001b[39mT, orig_sr, target_sr, quality\u001b[38;5;241m=\u001b[39mres_type)\u001b[38;5;241m.\u001b[39mT\n\u001b[1;32m    616\u001b[0m \u001b[38;5;28;01melse\u001b[39;00m:\n\u001b[0;32m--> 617\u001b[0m     y_hat \u001b[38;5;241m=\u001b[39m \u001b[43mresampy\u001b[49m\u001b[38;5;241;43m.\u001b[39;49m\u001b[43mresample\u001b[49m\u001b[43m(\u001b[49m\u001b[43my\u001b[49m\u001b[43m,\u001b[49m\u001b[43m \u001b[49m\u001b[43morig_sr\u001b[49m\u001b[43m,\u001b[49m\u001b[43m \u001b[49m\u001b[43mtarget_sr\u001b[49m\u001b[43m,\u001b[49m\u001b[43m \u001b[49m\u001b[38;5;28;43mfilter\u001b[39;49m\u001b[38;5;241;43m=\u001b[39;49m\u001b[43mres_type\u001b[49m\u001b[43m,\u001b[49m\u001b[43m \u001b[49m\u001b[43maxis\u001b[49m\u001b[38;5;241;43m=\u001b[39;49m\u001b[38;5;241;43m-\u001b[39;49m\u001b[38;5;241;43m1\u001b[39;49m\u001b[43m)\u001b[49m\n\u001b[1;32m    619\u001b[0m \u001b[38;5;28;01mif\u001b[39;00m fix:\n\u001b[1;32m    620\u001b[0m     y_hat \u001b[38;5;241m=\u001b[39m util\u001b[38;5;241m.\u001b[39mfix_length(y_hat, size\u001b[38;5;241m=\u001b[39mn_samples, \u001b[38;5;241m*\u001b[39m\u001b[38;5;241m*\u001b[39mkwargs)\n",
      "File \u001b[0;32m~/code/gale8/v2/lib/python3.9/site-packages/resampy/core.py:120\u001b[0m, in \u001b[0;36mresample\u001b[0;34m(x, sr_orig, sr_new, axis, filter, **kwargs)\u001b[0m\n\u001b[1;32m    118\u001b[0m x_2d \u001b[38;5;241m=\u001b[39m x\u001b[38;5;241m.\u001b[39mswapaxes(\u001b[38;5;241m0\u001b[39m, axis)\u001b[38;5;241m.\u001b[39mreshape((x\u001b[38;5;241m.\u001b[39mshape[axis], \u001b[38;5;241m-\u001b[39m\u001b[38;5;241m1\u001b[39m))\n\u001b[1;32m    119\u001b[0m y_2d \u001b[38;5;241m=\u001b[39m y\u001b[38;5;241m.\u001b[39mswapaxes(\u001b[38;5;241m0\u001b[39m, axis)\u001b[38;5;241m.\u001b[39mreshape((y\u001b[38;5;241m.\u001b[39mshape[axis], \u001b[38;5;241m-\u001b[39m\u001b[38;5;241m1\u001b[39m))\n\u001b[0;32m--> 120\u001b[0m \u001b[43mresample_f\u001b[49m\u001b[43m(\u001b[49m\u001b[43mx_2d\u001b[49m\u001b[43m,\u001b[49m\u001b[43m \u001b[49m\u001b[43my_2d\u001b[49m\u001b[43m,\u001b[49m\u001b[43m \u001b[49m\u001b[43msample_ratio\u001b[49m\u001b[43m,\u001b[49m\u001b[43m \u001b[49m\u001b[43minterp_win\u001b[49m\u001b[43m,\u001b[49m\u001b[43m \u001b[49m\u001b[43minterp_delta\u001b[49m\u001b[43m,\u001b[49m\u001b[43m \u001b[49m\u001b[43mprecision\u001b[49m\u001b[43m)\u001b[49m\n\u001b[1;32m    122\u001b[0m \u001b[38;5;28;01mreturn\u001b[39;00m y\n",
      "\u001b[0;31mKeyboardInterrupt\u001b[0m: "
     ]
    }
   ],
   "source": [
    "%%time\n",
    "window_size = byte_rate // 2\n",
    "mp3_file = \"train/20220301Z0520.mp3\"\n",
    "mp3, _ = librosa.load(mp3_file, sr=16000)\n"
   ]
  },
  {
   "cell_type": "code",
   "execution_count": 16,
   "id": "2e7e4076",
   "metadata": {},
   "outputs": [
    {
     "name": "stdout",
     "output_type": "stream",
     "text": [
      "CPU times: user 160 ms, sys: 83.5 ms, total: 244 ms\n",
      "Wall time: 1.21 s\n"
     ]
    }
   ],
   "source": [
    "%%time\n",
    "mp3_data = open_mp3(mp3_file).read()\n",
    "mp3 = bytes_to_array(mp3_data)"
   ]
  },
  {
   "cell_type": "code",
   "execution_count": 187,
   "id": "f71e6473",
   "metadata": {},
   "outputs": [
    {
     "data": {
      "text/plain": [
       "(16000,)"
      ]
     },
     "execution_count": 187,
     "metadata": {},
     "output_type": "execute_result"
    }
   ],
   "source": [
    "mp3[0:sample_rate].shape"
   ]
  },
  {
   "cell_type": "code",
   "execution_count": 153,
   "id": "7f86fce6",
   "metadata": {},
   "outputs": [
    {
     "name": "stdout",
     "output_type": "stream",
     "text": [
      "CPU times: user 925 ms, sys: 119 ms, total: 1.04 s\n",
      "Wall time: 625 ms\n"
     ]
    },
    {
     "data": {
      "text/plain": [
       "(22657, 24)"
      ]
     },
     "execution_count": 153,
     "metadata": {},
     "output_type": "execute_result"
    }
   ],
   "source": [
    "%time mfcc_feat = librosa.feature.mfcc(y=mp3, sr=sample_rate, n_mfcc=24).T\n",
    "mfcc_feat.shape"
   ]
  },
  {
   "cell_type": "code",
   "execution_count": 17,
   "id": "f42ca139",
   "metadata": {},
   "outputs": [
    {
     "name": "stdout",
     "output_type": "stream",
     "text": [
      "CPU times: user 6.23 ms, sys: 3.27 ms, total: 9.49 ms\n",
      "Wall time: 4.08 ms\n"
     ]
    },
    {
     "data": {
      "text/plain": [
       "((16000,), (99, 13))"
      ]
     },
     "execution_count": 17,
     "metadata": {},
     "output_type": "execute_result"
    }
   ],
   "source": [
    "s = mp3[0:sample_rate]\n",
    "%time mfcc_feat = python_speech_features.mfcc(s, sample_rate)\n",
    "(s.shape, mfcc_feat.shape)"
   ]
  },
  {
   "cell_type": "code",
   "execution_count": 23,
   "id": "0442c066",
   "metadata": {},
   "outputs": [
    {
     "name": "stdout",
     "output_type": "stream",
     "text": [
      "CPU times: user 1min 7s, sys: 8.64 s, total: 1min 15s\n",
      "Wall time: 12.7 s\n"
     ]
    },
    {
     "data": {
      "text/plain": [
       "[(9.0, array([1])),\n",
       " (15.5, array([1])),\n",
       " (22.0, array([1])),\n",
       " (38.0, array([1])),\n",
       " (43.5, array([1])),\n",
       " (44.5, array([0])),\n",
       " (47.5, array([1])),\n",
       " (50.0, array([0])),\n",
       " (54.0, array([0])),\n",
       " (66.5, array([1])),\n",
       " (68.0, array([1])),\n",
       " (71.0, array([1])),\n",
       " (76.0, array([1])),\n",
       " (77.0, array([1])),\n",
       " (84.5, array([0])),\n",
       " (89.5, array([1])),\n",
       " (95.0, array([1])),\n",
       " (97.5, array([0])),\n",
       " (105.0, array([1])),\n",
       " (112.0, array([1])),\n",
       " (118.0, array([1])),\n",
       " (133.0, array([0])),\n",
       " (141.5, array([1])),\n",
       " (152.5, array([1])),\n",
       " (174.5, array([0])),\n",
       " (185.0, array([0])),\n",
       " (207.5, array([0])),\n",
       " (214.0, array([1])),\n",
       " (216.0, array([0])),\n",
       " (225.5, array([0])),\n",
       " (230.5, array([0])),\n",
       " (249.0, array([0])),\n",
       " (283.5, array([0])),\n",
       " (299.5, array([0])),\n",
       " (308.5, array([1])),\n",
       " (311.5, array([0])),\n",
       " (317.0, array([1])),\n",
       " (332.5, array([1])),\n",
       " (334.0, array([0])),\n",
       " (336.5, array([0])),\n",
       " (346.0, array([1])),\n",
       " (354.0, array([1])),\n",
       " (381.5, array([1])),\n",
       " (391.0, array([0])),\n",
       " (437.0, array([0])),\n",
       " (439.0, array([1])),\n",
       " (487.5, array([0])),\n",
       " (506.0, array([0])),\n",
       " (512.0, array([0])),\n",
       " (515.0, array([1])),\n",
       " (541.5, array([1])),\n",
       " (552.0, array([1])),\n",
       " (556.0, array([1])),\n",
       " (561.5, array([0])),\n",
       " (581.5, array([1])),\n",
       " (601.0, array([1])),\n",
       " (638.0, array([1])),\n",
       " (649.5, array([0])),\n",
       " (663.0, array([1])),\n",
       " (669.5, array([0])),\n",
       " (680.0, array([0])),\n",
       " (690.0, array([1]))]"
      ]
     },
     "execution_count": 23,
     "metadata": {},
     "output_type": "execute_result"
    }
   ],
   "source": [
    "%%time\n",
    "p=[]\n",
    "for i in range(0, len(mp3), sample_rate // 2):\n",
    "    s = mp3[i:i+sample_rate]\n",
    "    if len(s) < sample_rate:break\n",
    "    mfcc = python_speech_features.mfcc(s, sample_rate)\n",
    "    #print(mfcc.flatten().shape)\n",
    "    #break\n",
    "    x = mfcc.flatten()\n",
    "    if rf.predict([x]):\n",
    "        p.append((i / sample_rate, clf.predict([x])))\n",
    "p"
   ]
  },
  {
   "cell_type": "code",
   "execution_count": 198,
   "id": "3e5ed83a",
   "metadata": {},
   "outputs": [
    {
     "data": {
      "text/plain": [
       "11599872"
      ]
     },
     "execution_count": 198,
     "metadata": {},
     "output_type": "execute_result"
    }
   ],
   "source": [
    "len(mp3)"
   ]
  },
  {
   "cell_type": "code",
   "execution_count": 142,
   "id": "a3d69cb4",
   "metadata": {},
   "outputs": [
    {
     "data": {
      "text/plain": [
       "array([0., 0., 0., 0., 0.], dtype=float32)"
      ]
     },
     "execution_count": 142,
     "metadata": {},
     "output_type": "execute_result"
    }
   ],
   "source": [
    "mp3[i:i+5]"
   ]
  },
  {
   "cell_type": "code",
   "execution_count": null,
   "id": "bf69e1a4",
   "metadata": {},
   "outputs": [],
   "source": [
    "help"
   ]
  }
 ],
 "metadata": {
  "kernelspec": {
   "display_name": "Python 3 (ipykernel)",
   "language": "python",
   "name": "python3"
  },
  "language_info": {
   "codemirror_mode": {
    "name": "ipython",
    "version": 3
   },
   "file_extension": ".py",
   "mimetype": "text/x-python",
   "name": "python",
   "nbconvert_exporter": "python",
   "pygments_lexer": "ipython3",
   "version": "3.9.12"
  }
 },
 "nbformat": 4,
 "nbformat_minor": 5
}
