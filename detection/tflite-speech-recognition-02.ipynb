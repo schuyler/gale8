{
 "cells": [
  {
   "cell_type": "markdown",
   "id": "fc14d83c",
   "metadata": {},
   "source": [
    "[adapted from tflite-speech-recognition](https://github.com/ShawnHymel/tflite-speech-recognition/blob/master/02-speech-commands-mfcc-classifier.ipynb)"
   ]
  },
  {
   "cell_type": "code",
   "execution_count": 2,
   "id": "ee416c27",
   "metadata": {},
   "outputs": [],
   "source": [
    "from os import listdir\n",
    "from os.path import isdir, join\n",
    "from tensorflow.keras import layers, models\n",
    "import numpy as np"
   ]
  },
  {
   "cell_type": "code",
   "execution_count": 84,
   "id": "a5464118",
   "metadata": {},
   "outputs": [
    {
     "name": "stdout",
     "output_type": "stream",
     "text": [
      "['shipping', 'not_shipping']\n"
     ]
    }
   ],
   "source": [
    "dataset_path = 'labeled'\n",
    "all_targets = [name for name in listdir(dataset_path) if isdir(join(dataset_path, name))]\n",
    "print(all_targets)\n",
    "\n",
    "feature_sets_path = '.'\n",
    "feature_sets_filename = 'all_targets_mfcc_sets.npz'\n",
    "model_filename = 'wake_word_stop_model.h5'\n",
    "wake_word = 'shipping'"
   ]
  },
  {
   "cell_type": "code",
   "execution_count": 85,
   "id": "627fa47c",
   "metadata": {},
   "outputs": [
    {
     "name": "stdout",
     "output_type": "stream",
     "text": [
      "['x_train', 'y_train', 'x_val', 'y_val', 'x_test', 'y_test']\n",
      "(343, 16, 16)\n",
      "(42, 16, 16)\n",
      "(42, 16, 16)\n"
     ]
    }
   ],
   "source": [
    "# Load feature sets\n",
    "feature_sets = np.load(join(feature_sets_path, feature_sets_filename))\n",
    "print(feature_sets.files)\n",
    "\n",
    "# Assign feature sets\n",
    "x_train = feature_sets['x_train']\n",
    "y_train = feature_sets['y_train']\n",
    "x_val = feature_sets['x_val']\n",
    "y_val = feature_sets['y_val']\n",
    "x_test = feature_sets['x_test']\n",
    "y_test = feature_sets['y_test']\n",
    "\n",
    "# Look at tensor dimensions\n",
    "print(x_train.shape)\n",
    "print(x_val.shape)\n",
    "print(x_test.shape)"
   ]
  },
  {
   "cell_type": "code",
   "execution_count": 86,
   "id": "2028087a",
   "metadata": {},
   "outputs": [],
   "source": [
    "# Convert ground truth arrays to one wake word (1) and 'other' (0)\n",
    "wake_word_index = all_targets.index(wake_word)\n",
    "y_train = np.equal(y_train, wake_word_index).astype('float64')\n",
    "y_val = np.equal(y_val, wake_word_index).astype('float64')\n",
    "y_test = np.equal(y_test, wake_word_index).astype('float64')"
   ]
  },
  {
   "cell_type": "code",
   "execution_count": 87,
   "id": "63841083",
   "metadata": {},
   "outputs": [
    {
     "name": "stdout",
     "output_type": "stream",
     "text": [
      "0.7380952380952381\n",
      "0.26190476190476186\n",
      "(343, 16, 16)\n"
     ]
    }
   ],
   "source": [
    "# What percentage of wakewords appear in validation labels\n",
    "print(sum(y_val) / len(y_val))\n",
    "print(1 - sum(y_val) / len(y_val))\n",
    "\n",
    "# View the dimensions of our input data\n",
    "print(x_train.shape)"
   ]
  },
  {
   "cell_type": "code",
   "execution_count": 88,
   "id": "606143ee",
   "metadata": {},
   "outputs": [
    {
     "name": "stdout",
     "output_type": "stream",
     "text": [
      "(343, 16, 16, 1)\n",
      "(42, 16, 16, 1)\n",
      "(42, 16, 16, 1)\n"
     ]
    }
   ],
   "source": [
    "# CNN for TF expects (batch, height, width, channels)\n",
    "# So we reshape the input tensors with a \"color\" channel of 1\n",
    "x_train = x_train.reshape(x_train.shape[0], \n",
    "                          x_train.shape[1], \n",
    "                          x_train.shape[2], \n",
    "                          1)\n",
    "x_val = x_val.reshape(x_val.shape[0], \n",
    "                      x_val.shape[1], \n",
    "                      x_val.shape[2], \n",
    "                      1)\n",
    "x_test = x_test.reshape(x_test.shape[0], \n",
    "                        x_test.shape[1], \n",
    "                        x_test.shape[2], \n",
    "                        1)\n",
    "print(x_train.shape)\n",
    "print(x_val.shape)\n",
    "print(x_test.shape)\n"
   ]
  },
  {
   "cell_type": "code",
   "execution_count": 89,
   "id": "87561ddc",
   "metadata": {},
   "outputs": [
    {
     "name": "stdout",
     "output_type": "stream",
     "text": [
      "(16, 16, 1)\n"
     ]
    }
   ],
   "source": [
    "# Input shape for CNN is size of MFCC of 1 sample\n",
    "sample_shape = x_test.shape[1:]\n",
    "print(sample_shape)"
   ]
  },
  {
   "cell_type": "code",
   "execution_count": 90,
   "id": "422568be",
   "metadata": {},
   "outputs": [],
   "source": [
    "# Build model\n",
    "# Based on: https://www.geeksforgeeks.org/python-image-classification-using-keras/\n",
    "model = models.Sequential()\n",
    "model.add(layers.Conv2D(32, \n",
    "                        (2, 2), \n",
    "                        activation='relu',\n",
    "                        input_shape=sample_shape))\n",
    "model.add(layers.MaxPooling2D(pool_size=(2, 2)))\n",
    "\n",
    "model.add(layers.Conv2D(32, (2, 2), activation='relu'))\n",
    "model.add(layers.MaxPooling2D(pool_size=(2, 2)))\n",
    "\n",
    "model.add(layers.Conv2D(64, (2, 2), activation='relu'))\n",
    "model.add(layers.MaxPooling2D(pool_size=(2, 2)))\n",
    "\n",
    "# Classifier\n",
    "model.add(layers.Flatten())\n",
    "model.add(layers.Dense(64, activation='relu'))\n",
    "model.add(layers.Dropout(0.5))\n",
    "model.add(layers.Dense(1, activation='sigmoid'))"
   ]
  },
  {
   "cell_type": "code",
   "execution_count": 91,
   "id": "99642434",
   "metadata": {},
   "outputs": [
    {
     "name": "stdout",
     "output_type": "stream",
     "text": [
      "Model: \"sequential_2\"\n",
      "_________________________________________________________________\n",
      " Layer (type)                Output Shape              Param #   \n",
      "=================================================================\n",
      " conv2d_6 (Conv2D)           (None, 15, 15, 32)        160       \n",
      "                                                                 \n",
      " max_pooling2d_6 (MaxPooling  (None, 7, 7, 32)         0         \n",
      " 2D)                                                             \n",
      "                                                                 \n",
      " conv2d_7 (Conv2D)           (None, 6, 6, 32)          4128      \n",
      "                                                                 \n",
      " max_pooling2d_7 (MaxPooling  (None, 3, 3, 32)         0         \n",
      " 2D)                                                             \n",
      "                                                                 \n",
      " conv2d_8 (Conv2D)           (None, 2, 2, 64)          8256      \n",
      "                                                                 \n",
      " max_pooling2d_8 (MaxPooling  (None, 1, 1, 64)         0         \n",
      " 2D)                                                             \n",
      "                                                                 \n",
      " flatten_2 (Flatten)         (None, 64)                0         \n",
      "                                                                 \n",
      " dense_4 (Dense)             (None, 64)                4160      \n",
      "                                                                 \n",
      " dropout_2 (Dropout)         (None, 64)                0         \n",
      "                                                                 \n",
      " dense_5 (Dense)             (None, 1)                 65        \n",
      "                                                                 \n",
      "=================================================================\n",
      "Total params: 16,769\n",
      "Trainable params: 16,769\n",
      "Non-trainable params: 0\n",
      "_________________________________________________________________\n"
     ]
    }
   ],
   "source": [
    "# Display model\n",
    "model.summary()\n"
   ]
  },
  {
   "cell_type": "code",
   "execution_count": 92,
   "id": "e8fb3db2",
   "metadata": {},
   "outputs": [],
   "source": [
    "# Add training parameters to model\n",
    "model.compile(loss='binary_crossentropy', \n",
    "              optimizer='rmsprop', \n",
    "              metrics=['acc'])"
   ]
  },
  {
   "cell_type": "code",
   "execution_count": 93,
   "id": "2eb61548",
   "metadata": {},
   "outputs": [
    {
     "name": "stdout",
     "output_type": "stream",
     "text": [
      "Epoch 1/30\n",
      "11/11 [==============================] - 1s 19ms/step - loss: 0.7097 - acc: 0.6443 - val_loss: 0.5484 - val_acc: 0.7381\n",
      "Epoch 2/30\n",
      "11/11 [==============================] - 0s 6ms/step - loss: 0.5048 - acc: 0.7522 - val_loss: 0.4971 - val_acc: 0.7381\n",
      "Epoch 3/30\n",
      "11/11 [==============================] - 0s 7ms/step - loss: 0.4333 - acc: 0.7784 - val_loss: 0.4370 - val_acc: 0.7857\n",
      "Epoch 4/30\n",
      "11/11 [==============================] - 0s 6ms/step - loss: 0.3707 - acc: 0.8222 - val_loss: 0.3975 - val_acc: 0.7857\n",
      "Epoch 5/30\n",
      "11/11 [==============================] - 0s 6ms/step - loss: 0.3479 - acc: 0.8426 - val_loss: 0.3773 - val_acc: 0.8333\n",
      "Epoch 6/30\n",
      "11/11 [==============================] - 0s 6ms/step - loss: 0.3191 - acc: 0.8513 - val_loss: 0.4128 - val_acc: 0.7857\n",
      "Epoch 7/30\n",
      "11/11 [==============================] - 0s 6ms/step - loss: 0.2729 - acc: 0.8834 - val_loss: 0.3568 - val_acc: 0.7857\n",
      "Epoch 8/30\n",
      "11/11 [==============================] - 0s 7ms/step - loss: 0.2620 - acc: 0.9038 - val_loss: 0.3653 - val_acc: 0.8095\n",
      "Epoch 9/30\n",
      "11/11 [==============================] - 0s 6ms/step - loss: 0.2004 - acc: 0.9388 - val_loss: 0.5199 - val_acc: 0.8095\n",
      "Epoch 10/30\n",
      "11/11 [==============================] - 0s 6ms/step - loss: 0.2086 - acc: 0.9155 - val_loss: 0.3305 - val_acc: 0.8810\n",
      "Epoch 11/30\n",
      "11/11 [==============================] - 0s 6ms/step - loss: 0.1829 - acc: 0.9359 - val_loss: 0.3756 - val_acc: 0.7857\n",
      "Epoch 12/30\n",
      "11/11 [==============================] - 0s 6ms/step - loss: 0.1920 - acc: 0.9359 - val_loss: 0.3699 - val_acc: 0.8095\n",
      "Epoch 13/30\n",
      "11/11 [==============================] - 0s 6ms/step - loss: 0.1713 - acc: 0.9329 - val_loss: 0.3909 - val_acc: 0.8095\n",
      "Epoch 14/30\n",
      "11/11 [==============================] - 0s 7ms/step - loss: 0.1370 - acc: 0.9534 - val_loss: 0.3740 - val_acc: 0.8571\n",
      "Epoch 15/30\n",
      "11/11 [==============================] - 0s 6ms/step - loss: 0.1445 - acc: 0.9534 - val_loss: 0.3263 - val_acc: 0.8810\n",
      "Epoch 16/30\n",
      "11/11 [==============================] - 0s 6ms/step - loss: 0.1181 - acc: 0.9679 - val_loss: 0.3367 - val_acc: 0.9048\n",
      "Epoch 17/30\n",
      "11/11 [==============================] - 0s 6ms/step - loss: 0.1302 - acc: 0.9563 - val_loss: 0.4266 - val_acc: 0.8333\n",
      "Epoch 18/30\n",
      "11/11 [==============================] - 0s 6ms/step - loss: 0.1005 - acc: 0.9738 - val_loss: 0.3075 - val_acc: 0.8571\n",
      "Epoch 19/30\n",
      "11/11 [==============================] - 0s 6ms/step - loss: 0.1200 - acc: 0.9592 - val_loss: 0.3519 - val_acc: 0.8095\n",
      "Epoch 20/30\n",
      "11/11 [==============================] - 0s 6ms/step - loss: 0.0941 - acc: 0.9679 - val_loss: 0.2991 - val_acc: 0.8571\n",
      "Epoch 21/30\n",
      "11/11 [==============================] - 0s 6ms/step - loss: 0.1024 - acc: 0.9796 - val_loss: 0.2946 - val_acc: 0.9048\n",
      "Epoch 22/30\n",
      "11/11 [==============================] - 0s 6ms/step - loss: 0.0994 - acc: 0.9708 - val_loss: 0.5527 - val_acc: 0.8333\n",
      "Epoch 23/30\n",
      "11/11 [==============================] - 0s 6ms/step - loss: 0.0797 - acc: 0.9825 - val_loss: 0.2741 - val_acc: 0.8810\n",
      "Epoch 24/30\n",
      "11/11 [==============================] - 0s 6ms/step - loss: 0.0566 - acc: 0.9825 - val_loss: 0.3093 - val_acc: 0.9286\n",
      "Epoch 25/30\n",
      "11/11 [==============================] - 0s 6ms/step - loss: 0.0861 - acc: 0.9767 - val_loss: 0.2600 - val_acc: 0.8571\n",
      "Epoch 26/30\n",
      "11/11 [==============================] - 0s 6ms/step - loss: 0.0494 - acc: 0.9854 - val_loss: 0.2974 - val_acc: 0.9048\n",
      "Epoch 27/30\n",
      "11/11 [==============================] - 0s 7ms/step - loss: 0.0320 - acc: 0.9942 - val_loss: 0.2638 - val_acc: 0.8810\n",
      "Epoch 28/30\n",
      "11/11 [==============================] - 0s 7ms/step - loss: 0.1152 - acc: 0.9563 - val_loss: 0.2257 - val_acc: 0.8810\n",
      "Epoch 29/30\n",
      "11/11 [==============================] - 0s 6ms/step - loss: 0.0477 - acc: 0.9883 - val_loss: 0.3828 - val_acc: 0.8810\n",
      "Epoch 30/30\n",
      "11/11 [==============================] - 0s 6ms/step - loss: 0.0312 - acc: 0.9913 - val_loss: 0.3010 - val_acc: 0.8810\n",
      "CPU times: user 4.74 s, sys: 1.63 s, total: 6.37 s\n",
      "Wall time: 2.82 s\n"
     ]
    }
   ],
   "source": [
    "%%time\n",
    "# Train\n",
    "history = model.fit(x_train, \n",
    "                    y_train, \n",
    "                    epochs=30, \n",
    "                    #batch_size=100, \n",
    "                    validation_data=(x_val, y_val))"
   ]
  },
  {
   "cell_type": "code",
   "execution_count": 94,
   "id": "8f0781cc",
   "metadata": {},
   "outputs": [
    {
     "data": {
      "image/png": "[encoded data removed]",
      "text/plain": [
       "<Figure size 432x288 with 1 Axes>"
      ]
     },
     "metadata": {
      "needs_background": "light"
     },
     "output_type": "display_data"
    },
    {
     "data": {
      "image/png": "[encoded data removed]",
      "text/plain": [
       "<Figure size 432x288 with 1 Axes>"
      ]
     },
     "metadata": {
      "needs_background": "light"
     },
     "output_type": "display_data"
    }
   ],
   "source": [
    "# Plot results\n",
    "import matplotlib.pyplot as plt\n",
    "\n",
    "acc = history.history['acc']\n",
    "val_acc = history.history['val_acc']\n",
    "loss = history.history['loss']\n",
    "val_loss = history.history['val_loss']\n",
    "\n",
    "epochs = range(1, len(acc) + 1)\n",
    "\n",
    "plt.plot(epochs, acc, 'bo', label='Training acc')\n",
    "plt.plot(epochs, val_acc, 'b', label='Validation acc')\n",
    "plt.title('Training and validation accuracy')\n",
    "plt.legend()\n",
    "\n",
    "plt.figure()\n",
    "\n",
    "plt.plot(epochs, loss, 'bo', label='Training loss')\n",
    "plt.plot(epochs, val_loss, 'b', label='Validation loss')\n",
    "plt.title('Training and validation loss')\n",
    "plt.legend()\n",
    "\n",
    "plt.show()"
   ]
  },
  {
   "cell_type": "code",
   "execution_count": 95,
   "id": "de2bb3d2",
   "metadata": {},
   "outputs": [],
   "source": [
    "# Save the model as a file\n",
    "models.save_model(model, model_filename)"
   ]
  },
  {
   "cell_type": "code",
   "execution_count": 96,
   "id": "fcb9f9e2",
   "metadata": {},
   "outputs": [
    {
     "name": "stdout",
     "output_type": "stream",
     "text": [
      "1\n",
      "2\n",
      "3\n",
      "4\n",
      "5\n",
      "7\n",
      "8\n",
      "9\n",
      "10\n",
      "11\n",
      "12\n",
      "13\n",
      "14\n",
      "15\n",
      "17\n",
      "19\n",
      "20\n",
      "21\n",
      "22\n",
      "23\n",
      "24\n",
      "26\n",
      "27\n",
      "28\n",
      "31\n",
      "32\n",
      "33\n",
      "34\n",
      "35\n",
      "36\n",
      "37\n",
      "38\n",
      "40\n",
      "41\n"
     ]
    }
   ],
   "source": [
    "# See which are wakeword\n",
    "for idx, y in enumerate(y_test):\n",
    "    if y == 1:\n",
    "        print(idx)"
   ]
  },
  {
   "cell_type": "code",
   "execution_count": 97,
   "id": "b8a907b8",
   "metadata": {},
   "outputs": [
    {
     "name": "stdout",
     "output_type": "stream",
     "text": [
      "Answer: 1.0  Prediction: [[1.]]\n",
      "Answer: 1.0  Prediction: [[0.99632454]]\n",
      "Answer: 1.0  Prediction: [[0.9981646]]\n",
      "Answer: 1.0  Prediction: [[0.99996406]]\n",
      "Answer: 1.0  Prediction: [[0.99998856]]\n",
      "Answer: 1.0  Prediction: [[0.99982977]]\n",
      "Answer: 0.0  Prediction: [[0.03724417]]\n",
      "Answer: 1.0  Prediction: [[1.]]\n",
      "Answer: 0.0  Prediction: [[0.00576872]]\n",
      "Answer: 1.0  Prediction: [[0.9999992]]\n"
     ]
    }
   ],
   "source": [
    "# TEST: Load model and run it against test set\n",
    "model = models.load_model(model_filename)\n",
    "for i in range(10, 20):\n",
    "    print('Answer:', y_test[i], ' Prediction:', model.predict(np.expand_dims(x_test[i], 0)))"
   ]
  },
  {
   "cell_type": "code",
   "execution_count": 98,
   "id": "cbe62584",
   "metadata": {},
   "outputs": [
    {
     "name": "stdout",
     "output_type": "stream",
     "text": [
      "2/2 [==============================] - 0s 2ms/step - loss: 0.0100 - acc: 1.0000\n"
     ]
    },
    {
     "data": {
      "text/plain": [
       "[0.010044161230325699, 1.0]"
      ]
     },
     "execution_count": 98,
     "metadata": {},
     "output_type": "execute_result"
    }
   ],
   "source": [
    "# Evaluate model with test set\n",
    "model.evaluate(x=x_test, y=y_test)"
   ]
  },
  {
   "cell_type": "code",
   "execution_count": 99,
   "id": "434799df",
   "metadata": {},
   "outputs": [
    {
     "name": "stderr",
     "output_type": "stream",
     "text": [
      "/Users/sderle/code/gale8/v2/lib/python3.9/site-packages/librosa/util/decorators.py:88: UserWarning: PySoundFile failed. Trying audioread instead.\n",
      "  return f(*args, **kwargs)\n"
     ]
    }
   ],
   "source": [
    "import librosa, python_speech_features\n",
    "num_mfcc = 16\n",
    "len_mfcc = 16\n",
    "sample_rate = 8000\n",
    "mp3_file = \"train/20220301Z0520.mp3\"\n",
    "mp3, _ = librosa.load(mp3_file, sr=sample_rate)"
   ]
  },
  {
   "cell_type": "code",
   "execution_count": 100,
   "id": "1e4eeb9d",
   "metadata": {},
   "outputs": [],
   "source": [
    "# Function: Create MFCC from given path\n",
    "def calc_mfcc(signal):\n",
    "    # Create MFCCs from sound clip\n",
    "    mfccs = python_speech_features.mfcc(signal, \n",
    "                                            samplerate=sample_rate,\n",
    "                                            winlen=0.256,\n",
    "                                            winstep=0.050,\n",
    "                                            numcep=num_mfcc,\n",
    "                                            nfilt=26,\n",
    "                                            nfft=2048,\n",
    "                                            preemph=0.0,\n",
    "                                            ceplifter=0,\n",
    "                                            appendEnergy=False,\n",
    "                                            winfunc=np.hanning)\n",
    "\n",
    "    return mfccs.transpose()"
   ]
  },
  {
   "cell_type": "code",
   "execution_count": 103,
   "id": "369eb96c",
   "metadata": {},
   "outputs": [
    {
     "name": "stdout",
     "output_type": "stream",
     "text": [
      " 43.50  0.068\n",
      " 95.00  0.058\n",
      " 152.50  0.004\n",
      " 225.50  0.010\n",
      " 238.50  0.038\n",
      " 332.50  0.013\n",
      " 515.00  0.006\n",
      " 552.00  0.027\n",
      "CPU times: user 3min 50s, sys: 36.9 s, total: 4min 27s\n",
      "Wall time: 45.1 s\n"
     ]
    }
   ],
   "source": [
    "%%time\n",
    "p=[]\n",
    "for i in range(0, len(mp3), sample_rate // 2):\n",
    "    s = mp3[i:i+sample_rate]\n",
    "    if len(s) < sample_rate:break\n",
    "    x = calc_mfcc(s)\n",
    "    p = model.predict(np.expand_dims(x, 0))\n",
    "    if p[0][0] < 0.1:\n",
    "        print(f\"{i / sample_rate: 5.2f} {p[0][0]: 6.3f}\")\n"
   ]
  },
  {
   "cell_type": "code",
   "execution_count": null,
   "id": "ebc922e8",
   "metadata": {},
   "outputs": [],
   "source": []
  }
 ],
 "metadata": {
  "kernelspec": {
   "display_name": "Python 3 (ipykernel)",
   "language": "python",
   "name": "python3"
  },
  "language_info": {
   "codemirror_mode": {
    "name": "ipython",
    "version": 3
   },
   "file_extension": ".py",
   "mimetype": "text/x-python",
   "name": "python",
   "nbconvert_exporter": "python",
   "pygments_lexer": "ipython3",
   "version": "3.9.12"
  }
 },
 "nbformat": 4,
 "nbformat_minor": 5
}
